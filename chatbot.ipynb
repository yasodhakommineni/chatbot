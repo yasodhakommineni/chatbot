{
 "cells": [
  {
   "cell_type": "code",
   "execution_count": 2,
   "id": "0f23a692-f4be-4102-a3bd-6a225f21e3e8",
   "metadata": {},
   "outputs": [
    {
     "name": "stdout",
     "output_type": "stream",
     "text": [
      "Hello! I'm your Chatbot. Type 'exit' to end the conversation.\n"
     ]
    },
    {
     "name": "stdin",
     "output_type": "stream",
     "text": [
      "You:  hello\n"
     ]
    },
    {
     "name": "stdout",
     "output_type": "stream",
     "text": [
      "ChatBot: Hello! How can I help you.\n"
     ]
    },
    {
     "name": "stdin",
     "output_type": "stream",
     "text": [
      "You:  college location\n"
     ]
    },
    {
     "name": "stdout",
     "output_type": "stream",
     "text": [
      "ChatBot: Jatni, Bhubaneswar Odisha\n"
     ]
    },
    {
     "name": "stdin",
     "output_type": "stream",
     "text": [
      "You:  exit\n"
     ]
    },
    {
     "name": "stdout",
     "output_type": "stream",
     "text": [
      "Chatbot: Goodbye! Have a great day.\n"
     ]
    }
   ],
   "source": [
    "def chatbot():\n",
    "    import pandas as pd\n",
    "    import numpy as np\n",
    "    from textblob import TextBlob\n",
    "    from sklearn.preprocessing import LabelEncoder\n",
    "    import string\n",
    "    from sklearn.feature_extraction.text import CountVectorizer\n",
    "    \n",
    "    df = pd.read_json('intents.json')\n",
    "    # intents' is the series in your DataFrame make it all columns \n",
    "    df = pd.DataFrame(df['intents'].tolist())\n",
    "    \n",
    "    # label encoded the tag column\n",
    "    le = LabelEncoder()\n",
    "    df['tag'] = le.fit_transform(df['tag'])\n",
    "    \n",
    "    # create two different df for convinience\n",
    "    response_df = pd.DataFrame({'tag': df['tag'], 'response': df['responses']})\n",
    "    pattern_df = pd.DataFrame({'tag': df['tag'], 'patterns': df['patterns']})\n",
    "    \n",
    "    # Use explode to split the lists into separate rows\n",
    "    pattern_df = pattern_df.explode('patterns')\n",
    "    response_df = response_df.explode('response')\n",
    "    # Reset index if needed\n",
    "    pattern_df = pattern_df.reset_index(drop=True)\n",
    "    response_df = response_df.reset_index(drop=True)\n",
    "    \n",
    "    # Shuffle or jumble the rows\n",
    "    pattern_df = pattern_df.sample(frac=1, random_state=np.random.seed(42))\n",
    "    \n",
    "    # Data preprocessing\n",
    "    pattern_df['patterns'] = pattern_df['patterns'].str.lower()\n",
    "    pattern_df['patterns'] = pattern_df['patterns'].str.replace('[{}]'.format(string.punctuation), '')\n",
    "    import re\n",
    "    pattern_df['patterns'] = pattern_df['patterns'].apply(lambda x: re.sub('[%s]' % re.escape(string.punctuation), '', x))\n",
    "    # The above line of code removes all punctuation from the column\n",
    "    \n",
    "    # Traing the dataset \n",
    "    patterns = list(pattern_df['patterns'])\n",
    "    cv = CountVectorizer()\n",
    "    patt = cv.fit_transform(patterns).toarray()\n",
    "    # creating a temporary dataframe to store the bow of pattern and then add the tag column to it for training\n",
    "    temp_df = pd.DataFrame(patt, index= pattern_df.index)\n",
    "    temp_df ['tag']= pattern_df['tag']\n",
    "    \n",
    "    # training the chatbot for entire data \n",
    "    X_train = temp_df.iloc[: , :-1].values\n",
    "    y_train = temp_df.iloc[:, -1].values\n",
    "    from sklearn.ensemble import RandomForestClassifier\n",
    "    from sklearn.metrics import accuracy_score\n",
    "    rf = RandomForestClassifier()\n",
    "    rf.fit(X_train,y_train)\n",
    "\n",
    "    def remove_pun(input_text):\n",
    "        input_text = re.sub('[%s]' % re.escape(string.punctuation), '', input_text)\n",
    "        input_text = input_text.lower()\n",
    "        return input_text\n",
    "    response_df_sampled = response_df.sample(frac=1, random_state=np.random.seed(42)) \n",
    "    def get_response(predicted_tag, p):\n",
    "        # Check if the predicted tag exists in the DataFrame\n",
    "        if p > 0.4:\n",
    "            possible_responses = response_df_sampled[response_df_sampled['tag'] == predicted_tag]['response']\n",
    "            \n",
    "            # Choose a random response from the list of possible responses\n",
    "            selected_response = np.random.choice(possible_responses)\n",
    "            # probabilities = rf.predict_proba(X_test)\n",
    "            \n",
    "            # print(f'Probability: {probabilities}')\n",
    "            print(f'ChatBot: {selected_response}')\n",
    "        else:\n",
    "            print(f'Sorry I don\\'t understand this !!!')\n",
    "            possible_responses = ['Sorry I don\\'t understand this !!!',\n",
    "                                 'Can you further ellobrate',\n",
    "                                 'Be more precise!',\n",
    "                                 'I don\\'t get it !']\n",
    "            selected_response = np.random.choice(possible_responses)\n",
    "            \n",
    "################ the actual main function begins    \n",
    "    print(\"Hello! I'm your Chatbot. Type 'exit' to end the conversation.\")\n",
    "    while True:\n",
    "        # Get user input\n",
    "        user_input = input(\"You: \")\n",
    "        textblb = TextBlob(user_input)\n",
    "        user_input=textblb.correct().string\n",
    "        # Check for exit command\n",
    "        if user_input.lower() == 'exit':\n",
    "            print(\"Chatbot: Goodbye! Have a great day.\")\n",
    "            break\n",
    "        \n",
    "        # Preprocess user input\n",
    "        user_input = remove_pun(user_input)\n",
    "        \n",
    "        # Transform user input into bag-of-words\n",
    "        user_input_bow = cv.transform([user_input])\n",
    "        \n",
    "        # Predict the tag for the user input\n",
    "        predicted_tag = rf.predict(user_input_bow)[0]\n",
    "        \n",
    "        # Predict probabilities for the test set\n",
    "        global probabilities \n",
    "        probabilities = rf.predict_proba(user_input_bow)\n",
    "        \n",
    "        your_tag_index = list(rf.classes_).index(predicted_tag)\n",
    "        \n",
    "        # Access probabilities for the specified tag\n",
    "        tag_probabilities = probabilities[:, your_tag_index]\n",
    "        get_response(predicted_tag,tag_probabilities)\n",
    "        # print(f'Prabability: {tag_probabilities}')\n",
    "\n",
    "# Call the chatbot function to start the interaction\n",
    "chatbot()"
   ]
  },
  {
   "cell_type": "code",
   "execution_count": null,
   "id": "a975a8a7-78a5-4829-8305-bd7511ff510d",
   "metadata": {},
   "outputs": [],
   "source": []
  }
 ],
 "metadata": {
  "kernelspec": {
   "display_name": "Python 3 (ipykernel)",
   "language": "python",
   "name": "python3"
  },
  "language_info": {
   "codemirror_mode": {
    "name": "ipython",
    "version": 3
   },
   "file_extension": ".py",
   "mimetype": "text/x-python",
   "name": "python",
   "nbconvert_exporter": "python",
   "pygments_lexer": "ipython3",
   "version": "3.12.1"
  }
 },
 "nbformat": 4,
 "nbformat_minor": 5
}
